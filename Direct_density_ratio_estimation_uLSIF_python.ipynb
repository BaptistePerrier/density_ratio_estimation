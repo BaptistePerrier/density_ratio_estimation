{
 "cells": [
  {
   "cell_type": "markdown",
   "metadata": {
    "slideshow": {
     "slide_type": "slide"
    }
   },
   "source": [
    "# 密度比直接推定のアルゴリズム\n",
    "<a name=\"密度比直接推定のアルゴリズム\"></a>"
   ]
  },
  {
   "cell_type": "markdown",
   "metadata": {
    "slideshow": {
     "slide_type": "subslide"
    }
   },
   "source": [
    "** ノンパラメトリックな密度比直接推定を使う**    \n",
    "頻度分布の確率密度関数の比を直接推定する利点は、   \n",
    "比べたい分布の確率密度関数をそれぞれ求めて比を取ることより推定誤差を小さくできる。   \n",
    "統計的にみたデータの入出力関係が   \n",
    "そこで、密度比の推定に非制約最小二乗密度比推定法を使用する。  "
   ]
  },
  {
   "cell_type": "markdown",
   "metadata": {
    "slideshow": {
     "slide_type": "subslide"
    }
   },
   "source": [
    "密度比$r({\\bf x}) = p({\\bf x})/q({\\bf x})$の直接推定の方法は、まず密度比を表す基本モデルとして、基底関数の線形モデル   \n",
    "\n",
    "\\begin{eqnarray}\n",
    "    {\\bf \\hat{r}}_\\alpha = {\\displaystyle \\Sigma_{i=1}^{N_{kernel}}}{\\alpha_i\\psi_i({\\bf x})} = {\\bf \\alpha}^{tr}{\\bf \\psi({\\bf x})}\n",
    "\\end{eqnarray}   \n",
    "\n",
    "を仮定する。   \n",
    "${\\bf \\psi({\\bf x})}$は、非負の値を取る基底関数。  良く用いられる基底関数として、RBFカーネルを使用する。   \n",
    "$p({\\bf x})$,$q({\\bf x})$は、比較する確率密度関数。   \n",
    "${\\bf x}$は、特徴量の値。   \n",
    "${\\bf \\alpha}$は、線形モデルのパラメタ。   \n",
    "$N_{kernel}$は、基底関数の数。   \n",
    "\n",
    "$\\hat{r}({\\bf x})q({\\bf x})$は$p({\\bf x})$に対応していないといけないため、最小化問題は$\\hat{r}({\\bf x})q({\\bf x})$と$p({\\bf x})$との関数を一致させる問題となる。   \n",
    "\n",
    "次に、パラメタ${\\bf \\alpha}$を求める最適化のアルゴリズムを選択する。    \n",
    "アルゴリズムは、非制約最小二乗密度比推定法を使用する。\n",
    ">メモ   \n",
    ">良く知られる手法として、非負の関数同士の情報理論的な距離を測る一般化カルバックライブラ距離の最小化法がある。    \n",
    ">しかし、凸最適化問題であり、勾配法によって最適解を求めるため遅い。    \n",
    "\n",
    "非制約最小二乗密度比推定法は、モデルのパラメタ${\\bf \\alpha}$を、二乗誤差$E({\\bf \\alpha})$を最小にするように学習する。   \n",
    "\n",
    "\\begin{eqnarray}\n",
    "    E(\\alpha) &=& \\frac{1}{2}\\int d{\\bf x}\\, \\left\\{\\hat{r}_\\alpha({\\bf x}) - r({\\bf x}) \\right\\}^2 q(\\bf x) \\\\\n",
    "              &=& \\frac{1}{2}\\int d{\\bf x}\\, {\\bf \\alpha}^{tr}{\\bf \\psi({\\bf x})} {\\bf \\psi^{tr}({\\bf x})}{\\bf \\alpha}q({\\bf x}) -  \\int d{\\bf x}\\,{\\bf \\alpha}^{tr}{\\bf \\psi({\\bf x})} p({\\bf x}) + Const \\label{eq:uLSIF}\n",
    "\\end{eqnarray}   \n",
    "式\\ref{eq:uLSIF}の期待値を標本平均に置換える。また、オーバーフィッティングを避けるために$L_2$正則化項を付け加えると、次の最適化問題になる。   \n",
    "\n",
    "\\begin{eqnarray}   \n",
    "    \\displaystyle \\min_{\\alpha} \\left[ \\frac{1}{2}{\\bf \\alpha}^{tr}\\hat{H} {\\bf \\alpha} - {\\bf \\alpha}^{tr}\\hat{h} + \\frac{\\lambda}{2}|{\\bf \\alpha}|^2 \\right]\n",
    "\\end{eqnarray}   \n",
    "但し、\n",
    "\n",
    "\\begin{eqnarray}   \n",
    "    \\hat{H} = \\frac{1}{N_{q}} \\Sigma_{n=1}^{N_{q}}{\\bf \\psi(\\bf x'_{n})}{\\bf \\psi^{tr}(\\bf x'_{n})} \\,\\, , \\,\\, \\hat{h} = \\frac{1}{N_p} \\Sigma_{n=1}^{N_p} \\psi(\\bf x_{n})\n",
    "\\end{eqnarray}   \n",
    "\n",
    "$p(\\bf x)$に従うデータを$\\bf x$とし、そのサンプル数を$N_p$、$q(\\bf x)$に従うデータを$\\bf x'$とし、そのサンプル数を$N_q$とした。   \n",
    "\n",
    "$E(\\bf \\alpha)$の微分を0とすると、解析的に解が求められる。   \n",
    "\n",
    "\\begin{eqnarray}\n",
    "    \\alpha = (\\hat{H} + \\lambda I)^{-1}\\hat{h}\n",
    "\\end{eqnarray}\n",
    "$\\alpha < 0$ならば、強制的に$\\alpha=0$とする。\n",
    "\n",
    "RBFのバンド幅$\\sigma$は、非制約最小二乗密度比推定法のもとで一個抜き交差確認(LOOCV)を行うことで設定される。   \n",
    "LOOCVも解析的に求まる。   \n",
    "\n",
    "\\begin{eqnarray}\n",
    "    LOOCV = \\frac{1}{n_t}\\Sigma_{i=1}^{n_t}\\left[ \\frac{1}{2}(\\hat{r^{(i)}}({\\bf x'_i}))^2 - \\hat{r^{(i)}}(\\bf x_i) \\right]\n",
    "\\end{eqnarray}\n",
    "\n",
    "具体的なアルゴリズムは、[[1](http://www.ms.k.u-tokyo.ac.jp/2011/LSOD.pdf)]を参考した。   \n",
    "[1] S Hido et al., Statistical Outlier Detection Using Direct Density Ratio Estimation, Knowledge and Information Systems. vol.26, no.2, pp.309-336, 2011."
   ]
  },
  {
   "cell_type": "markdown",
   "metadata": {
    "collapsed": true
   },
   "source": [
    "## 参考文献"
   ]
  },
  {
   "cell_type": "markdown",
   "metadata": {},
   "source": [
    "外れ値検出   \n",
    "サンプルxが外れ値の場合には確率密度比p(x)/q(x)が小さくなることを利用して外れ値を検出 (p(x):外れ値を含まないデータの確率密度関数、q(x): 外れ値を含んだデータの確率密度関数)。   \n",
    "Smola+, Relative Novelty Detection, AISTATS 2009, pp.536-543.     \n",
    "\n",
    "変化点検出   \n",
    "確率密度比推定を用いて推定したカルバックライブラー情報量等(KL(p_t(x)||q_t(x)))の指標を用いて変化点を検出 (p_t(x): 時間tの直前のデータの確率密度関数、q_t(x): 時間tの直後のデータの確率密度関数)。   \n",
    "変化点でない場合にはp_t(x)とq_t(x)が同じとなり、KL(p_t(x)||q_t(x)) = 0となる。一方で変化点の場合には、KL(p_t(x)||q_t(x)) > 0となる。   \n",
    "\n",
    "Kawahara+, Change-point detection based on direct density-ratio estimation, Statistical Analysis and Data Mining, Vol.5, No.2, pp.114-127.    \n",
    "Song+, Change-Point Detection in Time-Series Data by Relative Density-Ratio Estimation, arXiv:1203.0453v1.    "
   ]
  },
  {
   "cell_type": "markdown",
   "metadata": {},
   "source": [
    "# テスト"
   ]
  },
  {
   "cell_type": "code",
   "execution_count": 8,
   "metadata": {
    "collapsed": true
   },
   "outputs": [],
   "source": [
    "import sys\n",
    "sys.path.append('src/')\n",
    "import numpy as np\n",
    "import random as rand\n",
    "import scipy.stats as scipy_stats\n",
    "import Direct_density_ratio_estimation_uLSIF_python as density\n",
    "import matplotlib.pyplot as plt\n",
    "%matplotlib inline"
   ]
  },
  {
   "cell_type": "code",
   "execution_count": 36,
   "metadata": {
    "collapsed": false
   },
   "outputs": [
    {
     "data": {
      "image/png": "[encoded data removed]",
      "text/plain": [
       "<matplotlib.figure.Figure at 0x7f16068a4a90>"
      ]
     },
     "metadata": {},
     "output_type": "display_data"
    }
   ],
   "source": [
    "#\n",
    "N_nume = 500\n",
    "N_deno = 500\n",
    "m = [10.,11.]\n",
    "s = [0.5,1.2]\n",
    "x_nume = np.random.normal(loc= m[0], scale = s[0], size = N_nume)\n",
    "y_deno = np.random.normal(loc= m[1], scale = s[1], size = N_deno)\n",
    "Tot = np.r_[x_nume,y_deno]\n",
    "\n",
    "# 表示\n",
    "fig = plt.figure(figsize=[5,5])\n",
    "ax = fig.add_subplot(111)\n",
    "ax.set_title('distribution of samples')\n",
    "edges = np.arange(5,15,0.2)\n",
    "a = ax.hist(x_nume, bins = edges, color='b', alpha = 0.5, label='numerator')\n",
    "b = ax.hist(y_deno, bins = edges, color='m', alpha = 0.5, label='denominator')\n",
    "ylim = 1.1*np.max([a[0],b[0]])\n",
    "ax.set_ylim(0,ylim)\n",
    "ax.legend(fontsize = 10, bbox_to_anchor = (1,1), loc='upper right', borderaxespad = 1)\n",
    "fig.show()\n",
    "plt.tight_layout()\n"
   ]
  },
  {
   "cell_type": "code",
   "execution_count": 37,
   "metadata": {
    "collapsed": false
   },
   "outputs": [
    {
     "name": "stdout",
     "output_type": "stream",
     "text": [
      "start calculate density ratio using uLSIF.\n",
      "search sigma and lambda\n",
      "sigma = 0.0010, lambda = 0.0010, score = 0.0002\n",
      "sigma = 0.0010, lambda = 0.0032, score = 0.0000\n",
      "sigma = 0.0010, lambda = 0.0100, score = 0.0000\n",
      "sigma = 0.0010, lambda = 0.0316, score = 0.0000\n",
      "sigma = 0.0010, lambda = 0.1000, score = 0.0000\n",
      "sigma = 0.0010, lambda = 0.3162, score = 0.0000\n",
      "sigma = 0.0010, lambda = 1.0000, score = 0.0000\n",
      "sigma = 0.0010, lambda = 3.1623, score = -0.0000\n",
      "sigma = 0.0032, lambda = 0.0010, score = -0.0005\n",
      "sigma = 0.0032, lambda = 0.0032, score = -0.0008\n",
      "sigma = 0.0100, lambda = 0.0010, score = -0.0556\n",
      "sigma = 0.0316, lambda = 0.0010, score = -0.5570\n",
      "sigma = 0.1000, lambda = 0.0032, score = -1.0473\n",
      "sigma = 0.1000, lambda = 0.0100, score = -1.1932\n",
      "sigma = 0.3162, lambda = 0.0316, score = -1.2818\n",
      "sigma = 0.3162, lambda = 0.1000, score = -1.3390\n",
      "optimal sigma = 0.3162, lamda = 0.1000\n",
      "alpha optimization\n",
      "alpha optimization end\n",
      "start calculate density ratio using uLSIF.\n"
     ]
    }
   ],
   "source": [
    "dens = density.Density_ratio_estimation(x_nume,y_deno)\n",
    "dens.run()"
   ]
  },
  {
   "cell_type": "markdown",
   "metadata": {},
   "source": [
    "真の密度比と直接推定密度比のプロット"
   ]
  },
  {
   "cell_type": "code",
   "execution_count": 38,
   "metadata": {
    "collapsed": false
   },
   "outputs": [
    {
     "data": {
      "text/plain": [
       "<matplotlib.legend.Legend at 0x7f1606ca66d0>"
      ]
     },
     "execution_count": 38,
     "metadata": {},
     "output_type": "execute_result"
    },
    {
     "data": {
      "image/png": "[encoded data removed]",
      "text/plain": [
       "<matplotlib.figure.Figure at 0x7f1607288dd0>"
      ]
     },
     "metadata": {},
     "output_type": "display_data"
    }
   ],
   "source": [
    "x = np.linspace(0,20,200)\n",
    "y1 = scipy_stats.norm.pdf(x,loc=m[0],scale=s[0])\n",
    "y2 = scipy_stats.norm.pdf(x,loc=m[1],scale=s[1])\n",
    "y3 = (y1/y2)\n",
    "w_hat = dens.calculate_density_ratio(x)\n",
    "plt.figure()\n",
    "plt.plot(x,y3,'r',label='true pdf ratio')\n",
    "plt.plot(x,w_hat,'gray',label='w estimate')\n",
    "plt.xlim(0,20)\n",
    "plt.legend()"
   ]
  },
  {
   "cell_type": "markdown",
   "metadata": {},
   "source": [
    "もちろん、サンプルサイズを増やしたら精度は上がる"
   ]
  },
  {
   "cell_type": "code",
   "execution_count": 39,
   "metadata": {
    "collapsed": false
   },
   "outputs": [
    {
     "name": "stdout",
     "output_type": "stream",
     "text": [
      "start calculate density ratio using uLSIF.\n",
      "search sigma and lambda\n",
      "sigma = 0.0010, lambda = 0.0010, score = -0.0001\n",
      "sigma = 0.0032, lambda = 0.0010, score = -0.0010\n",
      "sigma = 0.0100, lambda = 0.0010, score = -0.0127\n",
      "sigma = 0.0316, lambda = 0.0010, score = -0.3437\n",
      "sigma = 0.1000, lambda = 0.0010, score = -1.2267\n",
      "sigma = 0.3162, lambda = 0.0032, score = -1.2642\n",
      "sigma = 0.3162, lambda = 0.0100, score = -1.3285\n",
      "sigma = 0.3162, lambda = 0.0316, score = -1.3290\n",
      "optimal sigma = 0.3162, lamda = 0.0316\n",
      "alpha optimization\n",
      "alpha optimization end\n",
      "start calculate density ratio using uLSIF.\n"
     ]
    }
   ],
   "source": [
    "N_nume = 5000\n",
    "N_deno = 5000\n",
    "m = [10.,11.]\n",
    "s = [0.5,1.2]\n",
    "x_nume = np.random.normal(loc= m[0], scale = s[0], size = N_nume)\n",
    "y_deno = np.random.normal(loc= m[1], scale = s[1], size = N_deno)\n",
    "\n",
    "dens = density.Density_ratio_estimation(x_nume,y_deno)\n",
    "dens.run()"
   ]
  },
  {
   "cell_type": "code",
   "execution_count": 40,
   "metadata": {
    "collapsed": false
   },
   "outputs": [
    {
     "data": {
      "text/plain": [
       "<matplotlib.legend.Legend at 0x7f1606e50d10>"
      ]
     },
     "execution_count": 40,
     "metadata": {},
     "output_type": "execute_result"
    },
    {
     "data": {
      "image/png": "[encoded data removed]",
      "text/plain": [
       "<matplotlib.figure.Figure at 0x7f1606798dd0>"
      ]
     },
     "metadata": {},
     "output_type": "display_data"
    }
   ],
   "source": [
    "x = np.linspace(0,20,200)\n",
    "y1 = scipy_stats.norm.pdf(x,loc=m[0],scale=s[0])\n",
    "y2 = scipy_stats.norm.pdf(x,loc=m[1],scale=s[1])\n",
    "y3 = (y1/y2)\n",
    "w_hat = dens.calculate_density_ratio(x)\n",
    "plt.figure()\n",
    "plt.plot(x,y3,'r',label='true pdf ratio')\n",
    "plt.plot(x,w_hat,'gray',label='w estimate')\n",
    "plt.xlim(0,20)\n",
    "plt.legend()"
   ]
  }
 ],
 "metadata": {
  "celltoolbar": "Slideshow",
  "hide_input": false,
  "kernelspec": {
   "display_name": "Python 2",
   "language": "python",
   "name": "python2"
  },
  "language_info": {
   "codemirror_mode": {
    "name": "ipython",
    "version": 2
   },
   "file_extension": ".py",
   "mimetype": "text/x-python",
   "name": "python",
   "nbconvert_exporter": "python",
   "pygments_lexer": "ipython2",
   "version": "2.7.12"
  },
  "latex_envs": {
   "LaTeX_envs_menu_present": true,
   "bibliofile": "biblio.bib",
   "cite_by": "apalike",
   "current_citInitial": 1,
   "eqLabelWithNumbers": true,
   "eqNumInitial": 0,
   "labels_anchors": false,
   "latex_user_defs": false,
   "report_style_numbering": false,
   "user_envs_cfg": false
  },
  "nav_menu": {},
  "toc": {
   "colors": {
    "hover_highlight": "#DAA520",
    "running_highlight": "#FF0000",
    "selected_highlight": "#FFD700"
   },
   "moveMenuLeft": true,
   "nav_menu": {
    "height": "138px",
    "width": "252px"
   },
   "navigate_menu": true,
   "number_sections": true,
   "sideBar": true,
   "threshold": 6,
   "toc_cell": false,
   "toc_position": {
    "height": "635px",
    "left": "0px",
    "right": "1139px",
    "top": "130px",
    "width": "141px"
   },
   "toc_section_display": "block",
   "toc_window_display": true
  }
 },
 "nbformat": 4,
 "nbformat_minor": 1
}
