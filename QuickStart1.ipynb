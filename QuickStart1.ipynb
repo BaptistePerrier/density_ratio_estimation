{
 "cells": [
  {
   "cell_type": "markdown",
   "metadata": {},
   "source": [
    "# Quick start1 -Simple usage-"
   ]
  },
  {
   "cell_type": "markdown",
   "metadata": {},
   "source": [
    "This module estimates the density ratio $r(x) = p(x) / q(x)$ from $x1$ and $x2$ samples generated from two unknown distributions $p(x), q(x)$, respectively, where $x1$ and $x2$ are d-dimensional real numbers.   "
   ]
  },
  {
   "cell_type": "markdown",
   "metadata": {},
   "source": [
    "### Generate data"
   ]
  },
  {
   "cell_type": "markdown",
   "metadata": {},
   "source": [
    "For example,"
   ]
  },
  {
   "cell_type": "markdown",
   "metadata": {},
   "source": [
    "Generate two samples that follow the normal distribution of $\\mathcal{N(0,1)}$ and $\\mathcal{N(1,2)}$, respectively."
   ]
  },
  {
   "cell_type": "code",
   "execution_count": 1,
   "metadata": {},
   "outputs": [],
   "source": [
    "import densityratio\n",
    "import numpy as np\n",
    "import scipy.stats\n",
    "import matplotlib.pyplot as plt"
   ]
  },
  {
   "cell_type": "code",
   "execution_count": 2,
   "metadata": {},
   "outputs": [
    {
     "data": {
      "image/png": "[encoded data removed]",
      "text/plain": [
       "<Figure size 360x216 with 1 Axes>"
      ]
     },
     "metadata": {
      "needs_background": "light"
     },
     "output_type": "display_data"
    }
   ],
   "source": [
    "m = [0.,1]\n",
    "s = [1.0,2.0]\n",
    "np.random.seed(10)\n",
    "x1 = np.random.normal(loc= m[0], scale = s[0], size = 500)\n",
    "x2 = np.random.normal(loc= m[1], scale = s[1], size = 500)\n",
    "\n",
    "# 表示\n",
    "fig = plt.figure(figsize=[5,3])\n",
    "ax = fig.add_subplot(111)\n",
    "ax.set_title('distribution of samples')\n",
    "edges = np.arange(-10,10,0.2)\n",
    "a = ax.hist(x1, bins = edges, color='b', alpha = 0.5, label='x1')\n",
    "b = ax.hist(x2, bins = edges, color='m', alpha = 0.5, label='x2')\n",
    "ylim = 1.1*np.max([a[0],b[0]])\n",
    "ax.set_ylim(0,ylim)\n",
    "ax.legend(fontsize = 10, bbox_to_anchor = (1,1), loc='upper right', borderaxespad = 1)\n",
    "plt.tight_layout()\n",
    "fig.savefig('pic/QS1_samples.png')"
   ]
  },
  {
   "cell_type": "markdown",
   "metadata": {},
   "source": [
    "### Estimate densityratio"
   ]
  },
  {
   "cell_type": "markdown",
   "metadata": {},
   "source": [
    "The densityratio provides a *densratio()* class that returns an object with a function for estimating the density ratio and a method for getting the parameters of the density ratio estimation.\n",
    "\n",
    "Pass two samples to the densratio and it will be calculated automatically."
   ]
  },
  {
   "cell_type": "code",
   "execution_count": 3,
   "metadata": {},
   "outputs": [
    {
     "data": {
      "text/plain": [
       "'    100% |################################| 0day  0:00:00 Total time: 0day  0:00:08'"
      ]
     },
     "metadata": {},
     "output_type": "display_data"
    },
    {
     "name": "stdout",
     "output_type": "stream",
     "text": [
      "\n",
      "Found optimal sigma = 1.0, lambda = 1.0, score=-0.8361725144529362\n"
     ]
    }
   ],
   "source": [
    "dens = densityratio.densratio(x1,x2)"
   ]
  },
  {
   "cell_type": "markdown",
   "metadata": {},
   "source": [
    "### Compare the true with the estimated."
   ]
  },
  {
   "cell_type": "markdown",
   "metadata": {},
   "source": [
    "In this case, the true density ratio $r(x)$ is known, so we can compare $r(x)$ with the estimated density ratio $\\hat{r}(x)$.    \n",
    "The code below gives the following output:"
   ]
  },
  {
   "cell_type": "code",
   "execution_count": 4,
   "metadata": {},
   "outputs": [
    {
     "data": {
      "image/png": "[encoded data removed]",
      "text/plain": [
       "<Figure size 432x288 with 1 Axes>"
      ]
     },
     "metadata": {
      "needs_background": "light"
     },
     "output_type": "display_data"
    }
   ],
   "source": [
    "x = np.linspace(-10,10,100)\n",
    "x1_pdf = lambda x: scipy.stats.norm.pdf(x,loc=m[0],scale=s[0])\n",
    "x2_pdf = lambda x: scipy.stats.norm.pdf(x,loc=m[1],scale=s[1])\n",
    "r = lambda x: x1_pdf(x)/x2_pdf(x)\n",
    "\n",
    "plt.figure()\n",
    "plt.plot(x,r(x),'r',label='true ratio')\n",
    "plt.plot(x,dens(x),'gray',label='estimated ratio')\n",
    "plt.xlim(-10,10)\n",
    "plt.legend()\n",
    "plt.savefig('pic/QS1_ratio.png')"
   ]
  },
  {
   "cell_type": "markdown",
   "metadata": {},
   "source": [
    "To get the parameters used for the density ratio calculation, call the following method."
   ]
  },
  {
   "cell_type": "code",
   "execution_count": 5,
   "metadata": {},
   "outputs": [
    {
     "name": "stdout",
     "output_type": "stream",
     "text": [
      "lambda= 1.0\n",
      "sigma= 1.0\n"
     ]
    }
   ],
   "source": [
    "print('lambda=',dens.lambda_)\n",
    "print('sigma=',dens.sigma)"
   ]
  }
 ],
 "metadata": {
  "kernelspec": {
   "display_name": "Python 3",
   "language": "python",
   "name": "python3"
  },
  "language_info": {
   "codemirror_mode": {
    "name": "ipython",
    "version": 3
   },
   "file_extension": ".py",
   "mimetype": "text/x-python",
   "name": "python",
   "nbconvert_exporter": "python",
   "pygments_lexer": "ipython3",
   "version": "3.7.0"
  }
 },
 "nbformat": 4,
 "nbformat_minor": 4
}
