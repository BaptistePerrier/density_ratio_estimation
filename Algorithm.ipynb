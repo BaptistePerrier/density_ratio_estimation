{
 "cells": [
  {
   "cell_type": "markdown",
   "metadata": {
    "slideshow": {
     "slide_type": "slide"
    }
   },
   "source": [
    "# Algorithm of direct density ratio estimation."
   ]
  },
  {
   "cell_type": "markdown",
   "metadata": {
    "slideshow": {
     "slide_type": "subslide"
    }
   },
   "source": [
    "The advantage of estimating the ratio of the probability density function directly from the two samples is that the estimation error can be reduced by estimating the probability density function separately.   \n",
    "Direct estimation of the density ratio uses the unconstrained least squares importance fitting algorithm (uLSIF) \\[1-3\\]."
   ]
  },
  {
   "cell_type": "markdown",
   "metadata": {},
   "source": [
    "First, the density ratio $r({\\bf x}) = p({\\bf x})/q({\\bf x})$ is defined as the sum of kernel functions as \n",
    "\\begin{eqnarray}\n",
    "    {\\bf \\hat{r}}_{\\bf w} = {\\displaystyle \\sum_{i=1}^{N_{kernel}}}{{\\rm w}_i\\psi_i({\\bf x})} = {\\bf w}^{tr}{\\bf \\psi({\\bf x})}\n",
    "\\end{eqnarray} \n",
    ", where ${\\bf \\psi({\\bf x})}$ is non-negative kernel function which is employed gaussian kernel, \n",
    "$p({\\bf x})$ and $q({\\bf x})$ are probability density function, x is d-dimensional real number, \n",
    "${\\bf w}$ are linear model parameters, $N_{kernel}$ is the number of kernels.   "
   ]
  },
  {
   "cell_type": "markdown",
   "metadata": {
    "slideshow": {
     "slide_type": "subslide"
    }
   },
   "source": [
    "The uLSIF algorithm considers the minimum value of the following function to determine alpha:\n",
    "\\begin{eqnarray}\n",
    "    E({\\bf w}) &=& \\frac{1}{2}\\int d{\\bf x}\\, \\left\\{\\hat{r}_{\\bf w}({\\bf x}) - r({\\bf x}) \\right\\}^2 q(\\bf x) \\\\\n",
    "              &=& \\frac{1}{2}\\int d{\\bf x}\\, {\\bf w}^{tr}{\\bf \\psi({\\bf x})} {\\bf \\psi^{tr}({\\bf x})}{\\bf w}q({\\bf x}) -  \\int d{\\bf x}\\,{\\bf w}^{tr}{\\bf \\psi({\\bf x})} p({\\bf x}) + Const. \\label{eq:uLSIF}\n",
    "\\end{eqnarray}   \n",
    "\n",
    "Although the generalized KL divergence is well known as the objective function, the use of KL-div is a convex optimization problem, and the demerit is that the calculation is slow because the optimal solution is obtained by the gradient method.\n",
    "On the other hand, uLSIF has better computational cost than the gradient method because it can be solved analytically and is theoretically shown that A has excellent properties in terms of convergence and numerical stability of the algorithm \\[3\\].\n",
    "\n",
    "The following equation is obtained by replacing the expected value of the objective function with the sample mean and adding regularization.   \n",
    "\\begin{eqnarray}   \n",
    "    \\displaystyle \\min_{\\bf w} \\left[ \\frac{1}{2}{\\bf w}^{tr}\\hat{H} {\\bf w} - {\\bf w}^{tr}\\hat{h} + \\frac{\\lambda}{2}|{\\bf w}|^2 \\right]\n",
    "\\end{eqnarray}   \n",
    "\n",
    "\\begin{eqnarray}   \n",
    "    \\hat{H} = \\frac{1}{N_{q}} \\sum_{i=1}^{N_{q}}{\\bf \\psi({\\bf x}^{q}_{i})}{\\bf \\psi^{tr}({\\bf x}^{q}_{i})} \\,\\, , \\,\\, \\hat{h} = \\frac{1}{N_p} \\sum_{i=1}^{N_p} \\psi({\\bf x}^{p}_{i})\n",
    "\\end{eqnarray}   \n",
    ",where two data samples ${\\bf x}_i^p$ and ${\\bf x}_i^q$ are obtained from the pdf $p(\\bf x)$ and $q(\\bf x)$, respectively, $N_p$ and $N_q$ are the number of two samples."
   ]
  },
  {
   "cell_type": "markdown",
   "metadata": {},
   "source": [
    "The analytical ${\\bf w}$ is obtained as\n",
    "\\begin{eqnarray}\n",
    "    {\\bf w} = (\\hat{H} + \\lambda I)^{-1}\\hat{h}.\n",
    "\\end{eqnarray}\n",
    "If ${\\bf w}$ is negative during the calculation, it is set to 0.\n",
    "\n",
    "The bandwidth of RBF $\\sigma$ is set by leave one-out cross validation (LOOCV).   \n",
    "LOOCV can also be analytically obtained.   \n",
    "In the current setup, two sets of samples, $\\{ x_i^p\\}^{N_p}_{i=1}$ and  $\\{ x_j^q\\}^{N_q}_{j=1}$, generally have different sample sizes. For $i=1,\\dots,n$, where $n:= \\min(N_p,N_q)$, suppose that the $i-$th $p(x)$ sample $x_i^p$ and $i-$th $q(x)$ sample $x_i^q$ are held out at the same time in the LOOCV procedure.\n",
    "\n",
    "Let $\\hat{r}_i(x)$ be a density-ratio estimate obtained without the $i-$th $p(x)$ and $q(x)$ samples $x_i^p$,$x_i^q$. Then the LOOCV score is expressed as \n",
    "\\begin{eqnarray}\n",
    "    LOOCV = \\frac{1}{n_t}\\sum_{i=1}^{n_t}\\left[ \\frac{1}{2}(\\hat{r}_i({\\bf x}^q_i))^2 - \\hat{r}_i({\\bf x}^p_i) \\right].\n",
    "\\end{eqnarray}"
   ]
  },
  {
   "cell_type": "markdown",
   "metadata": {},
   "source": [
    "This package provides a direct density estimation module in which uLSIF \\[1-3\\] is implemented.\n",
    "In addition, the relative density ratio (RuLSIF) $p(x)/(\\alpha * p(x) + (1 - \\alpha) * q(x))$ ,where $\\alpha$ is in the range \\[0,1\\], is also implimented \\[4\\].\n",
    "By substituting $q(x)$ into $\\alpha * p(x) + (1 - \\alpha) * q(x)$, we get RuLSIF algorithm from the above development of formula."
   ]
  },
  {
   "cell_type": "markdown",
   "metadata": {},
   "source": [
    "### References\n",
    "\\[1\\] M. Sugiyama, T. Suzuki, and T. Kanamori, **Density Ratio Estimation in Machine Learning.** Cambridge University Press 2012.\n",
    "\n",
    "\\[2\\] T. Kanamori, S. Hido, and M. Sugiyama, **A least-squares approach to direct importance estimation,** J. Mach. Learn. Res., vol. 10, pp. 1391–1445, 2009.\n",
    "\n",
    "\\[3\\] T. Kanamori, T. Suzuki, and M. Sugiyama, **Condition number analysis of kernel-based density ratio estimation**.,[arXiv](https://arxiv.org/abs/0912.2800)., (2009).\n",
    "\n",
    "\\[4\\] M. Yamada, T. Suzuki, T. Kanamori, H. Hachiya, and M. Sugiyama, **Relative density-ratio estimation for robust distribution comparison,** Neural Computation. 2013."
   ]
  }
 ],
 "metadata": {
  "celltoolbar": "Slideshow",
  "hide_input": false,
  "kernelspec": {
   "display_name": "Python 3",
   "language": "python",
   "name": "python3"
  },
  "language_info": {
   "codemirror_mode": {
    "name": "ipython",
    "version": 3
   },
   "file_extension": ".py",
   "mimetype": "text/x-python",
   "name": "python",
   "nbconvert_exporter": "python",
   "pygments_lexer": "ipython3",
   "version": "3.7.0"
  },
  "latex_envs": {
   "LaTeX_envs_menu_present": true,
   "bibliofile": "biblio.bib",
   "cite_by": "apalike",
   "current_citInitial": 1,
   "eqLabelWithNumbers": true,
   "eqNumInitial": 0,
   "labels_anchors": false,
   "latex_user_defs": false,
   "report_style_numbering": false,
   "user_envs_cfg": false
  },
  "nav_menu": {},
  "toc": {
   "colors": {
    "hover_highlight": "#DAA520",
    "running_highlight": "#FF0000",
    "selected_highlight": "#FFD700"
   },
   "moveMenuLeft": true,
   "nav_menu": {
    "height": "138px",
    "width": "252px"
   },
   "navigate_menu": true,
   "number_sections": true,
   "sideBar": true,
   "threshold": 6,
   "toc_cell": false,
   "toc_position": {
    "height": "635px",
    "left": "0px",
    "right": "1139px",
    "top": "130px",
    "width": "141px"
   },
   "toc_section_display": "block",
   "toc_window_display": true
  }
 },
 "nbformat": 4,
 "nbformat_minor": 4
}
